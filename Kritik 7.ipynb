{
 "cells": [
  {
   "cell_type": "code",
   "execution_count": 1,
   "id": "7b6b2b26-ac8e-4790-83bd-8fa06de659c3",
   "metadata": {},
   "outputs": [
    {
     "name": "stdout",
     "output_type": "stream",
     "text": [
      "Conclusion: Reject the null hypothesis.\n"
     ]
    }
   ],
   "source": [
    "import numpy as np\n",
    "from scipy.stats import t as t_distribution\n",
    "\n",
    "# Function to calculate the t-value for a hypothesis test\n",
    "def calculate_t_value(sample_mean, null_mean, sample_std_dev, sample_size):\n",
    "    numerator = sample_mean - null_mean\n",
    "    denominator = sample_std_dev / np.sqrt(sample_size)\n",
    "    value = numerator / denominator\n",
    "    return value\n",
    "\n",
    "# Function to find the critical t-value\n",
    "def find_critical_t_value(alpha, degrees_of_freedom):\n",
    "    critical_t_value = t_distribution.ppf(1 - alpha / 2, degrees_of_freedom)\n",
    "    return critical_t_value\n",
    "\n",
    "# Function to perform the hypothesis test and print the result\n",
    "def perform_hypothesis_test(scores, null_hypothesis):\n",
    "    # Compute sample statistics\n",
    "    sample_mean = np.mean(scores)\n",
    "    sample_std_dev = np.std(scores, ddof=1)  # ddof=1 for unbiased estimation\n",
    "    sample_size = len(scores)\n",
    "\n",
    "    # Calculate t-value\n",
    "    t_value = calculate_t_value(sample_mean, null_hypothesis, sample_std_dev, sample_size)\n",
    "\n",
    "    # Find critical t-value\n",
    "    critical_t_value = find_critical_t_value(0.05, sample_size - 1)\n",
    "\n",
    "    # Interpretation of the test result\n",
    "    if np.abs(t_value) <= critical_t_value:\n",
    "        conclusion = \"Fail to reject\"\n",
    "    else:\n",
    "        conclusion = \"Reject\"\n",
    "\n",
    "    # Print results with interpretation\n",
    "    print(f\"Conclusion: {conclusion} the null hypothesis.\")\n",
    "\n",
    "# Main function to run the hypothesis test\n",
    "def main():\n",
    "    # Given data\n",
    "    scores = [92.64, 79.00, 84.79, 97.41, 93.68, 65.23, 84.50, 73.49, 73.97, 79.11]\n",
    "    null_hypothesis = 75\n",
    "\n",
    "    # Perform hypothesis test\n",
    "    perform_hypothesis_test(scores, null_hypothesis)\n",
    "\n",
    "if __name__ == \"__main__\":\n",
    "    main()\n"
   ]
  },
  {
   "cell_type": "code",
   "execution_count": null,
   "id": "d83060c4-48c7-4e5d-832f-425974e4e60d",
   "metadata": {},
   "outputs": [],
   "source": []
  }
 ],
 "metadata": {
  "kernelspec": {
   "display_name": "Python 3 (ipykernel)",
   "language": "python",
   "name": "python3"
  },
  "language_info": {
   "codemirror_mode": {
    "name": "ipython",
    "version": 3
   },
   "file_extension": ".py",
   "mimetype": "text/x-python",
   "name": "python",
   "nbconvert_exporter": "python",
   "pygments_lexer": "ipython3",
   "version": "3.11.4"
  }
 },
 "nbformat": 4,
 "nbformat_minor": 5
}
