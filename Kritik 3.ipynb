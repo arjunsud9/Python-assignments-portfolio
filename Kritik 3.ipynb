{
 "cells": [
  {
   "cell_type": "code",
   "execution_count": 1,
   "id": "8e0a3e02-0977-4a98-99c3-782d34361a7c",
   "metadata": {},
   "outputs": [
    {
     "name": "stdout",
     "output_type": "stream",
     "text": [
      "x1: 0.999999\n",
      "x2: 1.000001\n"
     ]
    }
   ],
   "source": [
    "import math\n",
    "\n",
    "def f(x):\n",
    "    return x ** 2\n",
    "\n",
    "C = 1\n",
    "E = 0.1\n",
    "n = 1000\n",
    "x1 = C\n",
    "x2 = C\n",
    "d = 0.000001\n",
    "delx = 10 ** (-8)\n",
    "\n",
    "def fPrime(x):\n",
    "    return (f(x + delx) - f(x - delx)) / (2 * delx)\n",
    "\n",
    "def L(x):\n",
    "    return f(C) + fPrime(C) * (x - C)\n",
    "\n",
    "for i in range(n):\n",
    "    x1 = x1 - d\n",
    "    if abs(f(x1) - L(x1)) <= E:\n",
    "        print(f\"x1: {x1}\")\n",
    "        break\n",
    "if abs(f(x1) - L(x1)) > E:\n",
    "    print(\"There aren't any x1 values within the given iterations\")\n",
    "\n",
    "for i in range(n):\n",
    "    x2 = x2 + d\n",
    "    if abs(f(x2) - L(x2)) <= E:\n",
    "        print(f\"x2: {x2}\")\n",
    "        break\n",
    "if abs(f(x2) - L(x2)) > E:\n",
    "    print(\"There aren't any x2 values within the given iterations\")"
   ]
  },
  {
   "cell_type": "code",
   "execution_count": 3,
   "id": "23d6238d-4691-428a-9921-82454c3bb78b",
   "metadata": {},
   "outputs": [
    {
     "name": "stdout",
     "output_type": "stream",
     "text": [
      "x1: 0.7853971633974483\n",
      "x2: 0.7853991633974483\n"
     ]
    }
   ],
   "source": [
    "import math\n",
    "\n",
    "def f(x):\n",
    "    return math.sin(x)\n",
    "\n",
    "C = math.pi / 4\n",
    "E = 0.05\n",
    "n = 1000\n",
    "x1 = C\n",
    "x2 = C\n",
    "d = 0.000001\n",
    "delx = 10 ** (-8)\n",
    "\n",
    "def fPrime(x):\n",
    "    return (f(x + delx) - f(x - delx)) / (2 * delx)\n",
    "\n",
    "def L(x):\n",
    "    return f(C) + fPrime(C) * (x - C)\n",
    "\n",
    "for i in range(n):\n",
    "    x1 = x1 - d\n",
    "    if abs(f(x1) - L(x1)) <= E:\n",
    "        print(f\"x1: {x1}\")\n",
    "        break\n",
    "if abs(f(x1) - L(x1)) > E:\n",
    "    print(\"No x1 value found within the given iterations\")\n",
    "\n",
    "for i in range(n):\n",
    "    x2 = x2 + d\n",
    "    if abs(f(x2) - L(x2)) <= E:\n",
    "        print(f\"x2: {x2}\")\n",
    "        break\n",
    "if abs(f(x2) - L(x2)) > E:\n",
    "    print(\"No x2 value found within the given iterations\")\n"
   ]
  },
  {
   "cell_type": "code",
   "execution_count": 4,
   "id": "e5b4b5e0-c571-4425-bd9c-ffa3891eb930",
   "metadata": {},
   "outputs": [
    {
     "name": "stdout",
     "output_type": "stream",
     "text": [
      "x1: -1e-06\n",
      "x2: 1e-06\n"
     ]
    }
   ],
   "source": [
    "import math\n",
    "\n",
    "def f(x):\n",
    "    return math.exp(x)\n",
    "\n",
    "C = 0\n",
    "E = 0.01\n",
    "n = 1000\n",
    "x1 = C\n",
    "x2 = C\n",
    "delx = 10 ** (-8)\n",
    "d = 0.000001\n",
    "\n",
    "def fPrime(x):\n",
    "    return (f(x + delx) - f(x - delx)) / (2 * delx)\n",
    "\n",
    "def L(x):\n",
    "    return f(C) + fPrime(C) * (x - C)\n",
    "\n",
    "for i in range(n):\n",
    "    x1 = x1 - d\n",
    "    if abs(f(x1) - L(x1)) <= E:\n",
    "        print(f\"x1: {x1}\")\n",
    "        break\n",
    "if abs(f(x1) - L(x1)) > E:\n",
    "    print(\"No x1 value found within the given iterations\")\n",
    "\n",
    "for i in range(n):\n",
    "    x2 = x2 + d\n",
    "    if abs(f(x2) - L(x2)) <= E:\n",
    "        print(f\"x2: {x2}\")\n",
    "        break\n",
    "if abs(f(x2) - L(x2)) > E:\n",
    "    print(\"No x2 value found within the given iterations\")\n"
   ]
  }
 ],
 "metadata": {
  "kernelspec": {
   "display_name": "Python 3 (ipykernel)",
   "language": "python",
   "name": "python3"
  },
  "language_info": {
   "codemirror_mode": {
    "name": "ipython",
    "version": 3
   },
   "file_extension": ".py",
   "mimetype": "text/x-python",
   "name": "python",
   "nbconvert_exporter": "python",
   "pygments_lexer": "ipython3",
   "version": "3.11.4"
  }
 },
 "nbformat": 4,
 "nbformat_minor": 5
}
