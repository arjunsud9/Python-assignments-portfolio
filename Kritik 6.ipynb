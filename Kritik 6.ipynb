{
 "cells": [
  {
   "cell_type": "code",
   "execution_count": 1,
   "id": "cff0d157-3d46-4398-b62d-60f34c6a558f",
   "metadata": {},
   "outputs": [
    {
     "name": "stdout",
     "output_type": "stream",
     "text": [
      "Integrated Area (Custom): 0.8937539178438424\n"
     ]
    }
   ],
   "source": [
    "import numpy as np\n",
    "import matplotlib.pyplot as plt\n",
    "\n",
    "def custom_normal_density(mu, sigma_squared, x):\n",
    "    coefficient = 1 / np.sqrt(2 * np.pi * sigma_squared)\n",
    "    exponent_term = np.exp(- (x - mu)**2 / (2 * sigma_squared))\n",
    "    return coefficient * exponent_term\n",
    "\n",
    "def custom_integrate_normal_density(mu, sigma_squared, lower_bound, upper_bound, num_steps=10000):\n",
    "    delta_x = (upper_bound - lower_bound) / num_steps\n",
    "    x_values = np.linspace(lower_bound, upper_bound, num_steps)\n",
    "    area = np.sum(custom_normal_density(mu, sigma_squared, x_values) * delta_x)\n",
    "    return area\n",
    "\n",
    "def custom_plot_normal_distribution(mu, sigma_squared, lower_bound, upper_bound, num_points=10000):\n",
    "    x_coords = np.linspace(lower_bound, upper_bound, num_points)\n",
    "    y_coords = custom_normal_density(mu, sigma_squared, x_coords)\n",
    "    plt.plot(x_coords, y_coords)\n",
    "    plt.title('Custom Normal Distribution')\n",
    "    plt.xlabel('x')\n",
    "    plt.ylabel('Density')\n",
    "    plt.show()\n",
    "\n",
    "# Example usage:\n",
    "mu_value = 171\n",
    "sigma_squared_value = 7.1**2\n",
    "lower_bound_custom = 162\n",
    "upper_bound_custom = 190\n",
    "area_result_custom = custom_integrate_normal_density(mu_value, sigma_squared_value, lower_bound_custom, upper_bound_custom)\n",
    "print(\"Integrated Area (Custom):\", area_result_custom)"
   ]
  }
 ],
 "metadata": {
  "kernelspec": {
   "display_name": "Python 3 (ipykernel)",
   "language": "python",
   "name": "python3"
  },
  "language_info": {
   "codemirror_mode": {
    "name": "ipython",
    "version": 3
   },
   "file_extension": ".py",
   "mimetype": "text/x-python",
   "name": "python",
   "nbconvert_exporter": "python",
   "pygments_lexer": "ipython3",
   "version": "3.11.4"
  }
 },
 "nbformat": 4,
 "nbformat_minor": 5
}
