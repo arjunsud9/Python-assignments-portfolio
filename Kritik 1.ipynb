{
 "cells": [
  {
   "cell_type": "code",
   "execution_count": 3,
   "id": "be9ad8ce-9086-4677-8e5a-f638278bdeec",
   "metadata": {},
   "outputs": [
    {
     "name": "stdout",
     "output_type": "stream",
     "text": [
      "Error!\n",
      "0.0 1 0.0\n",
      "0.25 2 0.0001953125\n",
      "0.5 4 0.00021701388888888888\n",
      "0.75 8 0.00044217334224787703\n",
      "1.0 512 0.000975609756097561\n"
     ]
    }
   ],
   "source": [
    "def leafs (x):\n",
    "    if x>=0 and x<=1:\n",
    "        fsr=True\n",
    "        n=1\n",
    "        while fsr == True:\n",
    "            a=0\n",
    "            for i in range (n):\n",
    "                a= (((-1)**i) * (x**(2*i+1))/(2*i+1))\n",
    "                error_bound = (x**(2*n+1)/(2*n+1))\n",
    "                if error_bound <= 0.001 and a==x:\n",
    "                    print (a,n, error_bound)\n",
    "                    fsr=False\n",
    "                    break\n",
    "                elif error_bound>0.0001:\n",
    "                    n+=1\n",
    "    else:\n",
    "        print (\"Error!\")\n",
    "\n",
    "leafs (-1)\n",
    "leafs (0)\n",
    "leafs (0.25)\n",
    "leafs (0.5)\n",
    "leafs (0.75)\n",
    "leafs (1)"
   ]
  }
 ],
 "metadata": {
  "kernelspec": {
   "display_name": "Python 3 (ipykernel)",
   "language": "python",
   "name": "python3"
  },
  "language_info": {
   "codemirror_mode": {
    "name": "ipython",
    "version": 3
   },
   "file_extension": ".py",
   "mimetype": "text/x-python",
   "name": "python",
   "nbconvert_exporter": "python",
   "pygments_lexer": "ipython3",
   "version": "3.11.4"
  }
 },
 "nbformat": 4,
 "nbformat_minor": 5
}
