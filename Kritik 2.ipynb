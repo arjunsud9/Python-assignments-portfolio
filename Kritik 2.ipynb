{
 "cells": [
  {
   "cell_type": "code",
   "execution_count": 1,
   "id": "6a4a7ef9-b36e-4062-8246-82a8c8793c55",
   "metadata": {},
   "outputs": [
    {
     "name": "stdin",
     "output_type": "stream",
     "text": [
      "a:  0\n",
      "b:  1\n"
     ]
    },
    {
     "name": "stdout",
     "output_type": "stream",
     "text": [
      "0.2698707581\n"
     ]
    }
   ],
   "source": [
    "import math\n",
    "\n",
    "def func(f, a, b):\n",
    "    if f(a) * f(b) >= 0:\n",
    "        print(\"Interval is invalid\")\n",
    "        return None\n",
    "    while b - a >= 0.00001:\n",
    "        u = (a + b) / 2\n",
    "        if f(a) * f(u) < 0:\n",
    "            b = u\n",
    "        else:\n",
    "            a = u\n",
    "    return round((a + b) / 2, 10)\n",
    "\n",
    "def f(x):\n",
    "    if x == 0:\n",
    "        x = x + 0.00001\n",
    "    return math.exp(x) + math.log(x)\n",
    "\n",
    "a = float(input(\"a: \"))\n",
    "b = float(input(\"b: \"))\n",
    "print(func(f, a, b))\n"
   ]
  },
  {
   "cell_type": "code",
   "execution_count": 2,
   "id": "5ba7f276-9dbb-4094-9939-9f55c428837b",
   "metadata": {},
   "outputs": [
    {
     "name": "stdin",
     "output_type": "stream",
     "text": [
      "a:  0\n",
      "b:  2\n"
     ]
    },
    {
     "name": "stdout",
     "output_type": "stream",
     "text": [
      "0.8336062133\n"
     ]
    }
   ],
   "source": [
    "import math\n",
    "\n",
    "def func(f, a, b):\n",
    "    if f(a) * f(b) >= 0:\n",
    "        print(\"Invalid interval\")\n",
    "        return None\n",
    "    while b - a >= 0.0000001:\n",
    "        u = (a + b) / 2\n",
    "        if f(a) * f(u) < 0:\n",
    "            b = u\n",
    "        else:\n",
    "            a = u\n",
    "    return round((a + b) / 2, 10)\n",
    "\n",
    "def f(x):\n",
    "    if x == 0:\n",
    "        x = x + 0.0000001\n",
    "    return math.atan(x) - x**2\n",
    "\n",
    "a = float(input(\"a: \"))\n",
    "b = float(input(\"b: \"))\n",
    "print(func(f, a, b))\n"
   ]
  },
  {
   "cell_type": "code",
   "execution_count": 5,
   "id": "4bf390f0-b262-49e5-b101-ea18827ce9d3",
   "metadata": {},
   "outputs": [
    {
     "name": "stdin",
     "output_type": "stream",
     "text": [
      "a:  3\n",
      "b:  4\n"
     ]
    },
    {
     "name": "stdout",
     "output_type": "stream",
     "text": [
      "Invalid interval\n",
      "None\n"
     ]
    }
   ],
   "source": [
    "import math\n",
    "\n",
    "def func(f, a, b):\n",
    "    if f(a) * f(b) >= 0:\n",
    "        print(\"Invalid interval\")\n",
    "        return None\n",
    "    while b - a >= 0.0000001:\n",
    "        u = (a + b) / 2\n",
    "        if f(a) * f(u) < 0:\n",
    "            b = u\n",
    "        else:\n",
    "            a = u\n",
    "    return round((a + b) / 2, 10)\n",
    "\n",
    "def f(x):\n",
    "    if x == 0:\n",
    "        x = x + 0.0000001\n",
    "    return math.atan(x) - x**2\n",
    "\n",
    "a = float(input(\"a: \"))\n",
    "b = float(input(\"b: \"))\n",
    "print(func(f, a, b))\n"
   ]
  },
  {
   "cell_type": "code",
   "execution_count": 7,
   "id": "5e1bba75-4e2b-44e5-9f82-9026cda245b6",
   "metadata": {},
   "outputs": [
    {
     "name": "stdin",
     "output_type": "stream",
     "text": [
      "a:  5\n",
      "b:  7\n"
     ]
    },
    {
     "name": "stdout",
     "output_type": "stream",
     "text": [
      "Interval is invalid\n",
      "None\n"
     ]
    }
   ],
   "source": [
    "import math\n",
    "\n",
    "def func(f, a, b):\n",
    "    if f(a) * f(b) >= 0:\n",
    "        print(\"Interval is invalid\")\n",
    "        return None\n",
    "    while b - a >= 0.00001:\n",
    "        u = (a + b) / 2\n",
    "        if f(a) * f(u) < 0:\n",
    "            b = u\n",
    "        else:\n",
    "            a = u\n",
    "    return round((a + b) / 2, 10)\n",
    "\n",
    "def f(x):\n",
    "    if x == 0:\n",
    "        x = x + 0.00001\n",
    "    return math.log(math.cos(x))\n",
    "\n",
    "a = float(input(\"a: \"))\n",
    "b = float(input(\"b: \"))\n",
    "print(func(f, a, b))"
   ]
  },
  {
   "cell_type": "code",
   "execution_count": null,
   "id": "56f962ea-ff15-4309-8b22-907faebadfee",
   "metadata": {},
   "outputs": [],
   "source": []
  }
 ],
 "metadata": {
  "kernelspec": {
   "display_name": "Python 3 (ipykernel)",
   "language": "python",
   "name": "python3"
  },
  "language_info": {
   "codemirror_mode": {
    "name": "ipython",
    "version": 3
   },
   "file_extension": ".py",
   "mimetype": "text/x-python",
   "name": "python",
   "nbconvert_exporter": "python",
   "pygments_lexer": "ipython3",
   "version": "3.11.4"
  }
 },
 "nbformat": 4,
 "nbformat_minor": 5
}
